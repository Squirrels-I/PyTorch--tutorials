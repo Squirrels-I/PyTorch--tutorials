{
 "cells": [
  {
   "cell_type": "code",
   "execution_count": 3,
   "metadata": {},
   "outputs": [
    {
     "name": "stdout",
     "output_type": "stream",
     "text": [
      "cuda\n"
     ]
    }
   ],
   "source": [
    "import os\n",
    "import torch\n",
    "from torch import nn\n",
    "from torch.utils.data import DataLoader\n",
    "from torchvision import datasets, transforms\n",
    "\n",
    "device = (\n",
    "    'cuda'\n",
    "    if torch.cuda.is_available()\n",
    "    else \"mps\"\n",
    "    if torch.backends.mps.is_available()\n",
    "    else \"cpu\"\n",
    ")\n",
    "print(device)"
   ]
  },
  {
   "cell_type": "code",
   "execution_count": 4,
   "metadata": {},
   "outputs": [
    {
     "name": "stdout",
     "output_type": "stream",
     "text": [
      "MyNN(\n",
      "  (flatten): Flatten(start_dim=1, end_dim=-1)\n",
      "  (linear_relu_stack): Sequential(\n",
      "    (0): Linear(in_features=784, out_features=512, bias=True)\n",
      "    (1): ReLU()\n",
      "    (2): Linear(in_features=512, out_features=512, bias=True)\n",
      "    (3): ReLU()\n",
      "    (4): Linear(in_features=512, out_features=10, bias=True)\n",
      "  )\n",
      ")\n"
     ]
    }
   ],
   "source": [
    "class MyNN(nn.Module):\n",
    "    def __init__(self, *args, **kwargs):\n",
    "        super().__init__(*args, **kwargs)\n",
    "        self.flatten = nn.Flatten()\n",
    "        self.linear_relu_stack = nn.Sequential(\n",
    "            nn.Linear(28*28, 512),\n",
    "            nn.ReLU(),\n",
    "            nn.Linear(512, 512),\n",
    "            nn.ReLU(),\n",
    "            nn.Linear(512, 10)\n",
    "        )\n",
    "    \n",
    "    def forward(self, x):\n",
    "        x = self.flatten(x)\n",
    "        logits = self.linear_relu_stack(x)\n",
    "        return logits\n",
    "    \n",
    "mdl = MyNN().to(device)\n",
    "print(mdl)"
   ]
  },
  {
   "cell_type": "code",
   "execution_count": 5,
   "metadata": {},
   "outputs": [
    {
     "name": "stdout",
     "output_type": "stream",
     "text": [
      "Predicted class: tensor([6], device='cuda:0')\n"
     ]
    }
   ],
   "source": [
    "X = torch.rand(1, 28, 28, device=device)\n",
    "logits = mdl(X)\n",
    "pred_prob = nn.Softmax(dim=1)(logits)\n",
    "y_pred = pred_prob.argmax(1)\n",
    "print(f\"Predicted class: {y_pred}\")"
   ]
  },
  {
   "cell_type": "code",
   "execution_count": 6,
   "metadata": {},
   "outputs": [
    {
     "name": "stdout",
     "output_type": "stream",
     "text": [
      "torch.Size([3, 28, 28])\n"
     ]
    }
   ],
   "source": [
    "input_image = torch.rand(3, 28, 28)\n",
    "print(input_image.size())"
   ]
  },
  {
   "cell_type": "code",
   "execution_count": 7,
   "metadata": {},
   "outputs": [
    {
     "name": "stdout",
     "output_type": "stream",
     "text": [
      "torch.Size([3, 784])\n"
     ]
    }
   ],
   "source": [
    "flatten = nn.Flatten()\n",
    "flat_image = flatten(input_image)\n",
    "print(flat_image.size())"
   ]
  },
  {
   "cell_type": "code",
   "execution_count": 19,
   "metadata": {},
   "outputs": [
    {
     "name": "stdout",
     "output_type": "stream",
     "text": [
      "torch.Size([3, 20])\n"
     ]
    }
   ],
   "source": [
    "layer1 = nn.Linear(in_features=28*28, out_features=20)\n",
    "hidden1 = layer1(flat_image)\n",
    "print(hidden1.size())"
   ]
  },
  {
   "cell_type": "code",
   "execution_count": 20,
   "metadata": {},
   "outputs": [
    {
     "name": "stdout",
     "output_type": "stream",
     "text": [
      "Before ReLu: tensor([[ 0.3961, -0.0841, -0.1740, -0.2941,  0.3812,  0.4041, -0.0271,  0.0737,\n",
      "          0.1949,  0.3117, -0.5616, -0.1617,  0.1671,  0.4034, -0.0678,  0.2882,\n",
      "         -0.4800,  0.2789, -0.1058, -0.0517],\n",
      "        [ 0.0505, -0.3894,  0.2720, -0.3516,  0.5594,  0.5060,  0.0286,  0.4855,\n",
      "          0.2121,  0.0374, -0.4559,  0.0194,  0.2821,  0.3406, -0.1020,  0.1546,\n",
      "         -0.3211,  0.2990, -0.0525, -0.2150],\n",
      "        [ 0.2951, -0.1493,  0.2069, -0.6948,  0.4129,  0.0528,  0.0973,  0.3086,\n",
      "          0.2495, -0.0786, -0.2183, -0.2233,  0.2052,  0.2084, -0.2835,  0.5842,\n",
      "         -0.4503,  0.2257, -0.0205, -0.3017]], grad_fn=<AddmmBackward0>) \n",
      "\n",
      "After ReLu: tensor([[0.3961, 0.0000, 0.0000, 0.0000, 0.3812, 0.4041, 0.0000, 0.0737, 0.1949,\n",
      "         0.3117, 0.0000, 0.0000, 0.1671, 0.4034, 0.0000, 0.2882, 0.0000, 0.2789,\n",
      "         0.0000, 0.0000],\n",
      "        [0.0505, 0.0000, 0.2720, 0.0000, 0.5594, 0.5060, 0.0286, 0.4855, 0.2121,\n",
      "         0.0374, 0.0000, 0.0194, 0.2821, 0.3406, 0.0000, 0.1546, 0.0000, 0.2990,\n",
      "         0.0000, 0.0000],\n",
      "        [0.2951, 0.0000, 0.2069, 0.0000, 0.4129, 0.0528, 0.0973, 0.3086, 0.2495,\n",
      "         0.0000, 0.0000, 0.0000, 0.2052, 0.2084, 0.0000, 0.5842, 0.0000, 0.2257,\n",
      "         0.0000, 0.0000]], grad_fn=<ReluBackward0>)\n"
     ]
    }
   ],
   "source": [
    "print(f\"Before ReLu: {hidden1} \\n\")\n",
    "hidden1 = nn.ReLU()(hidden1)\n",
    "print(f\"After ReLu: {hidden1}\")"
   ]
  },
  {
   "cell_type": "code",
   "execution_count": 23,
   "metadata": {},
   "outputs": [
    {
     "data": {
      "text/plain": [
       "tensor([[-0.1069,  0.1316, -0.1199,  0.2955, -0.1782,  0.2152,  0.2238, -0.2441,\n",
       "         -0.3225,  0.0766],\n",
       "        [-0.1052,  0.0214, -0.1426,  0.1970, -0.1733,  0.1306,  0.2449, -0.2566,\n",
       "         -0.2846,  0.1321],\n",
       "        [-0.1108,  0.0015, -0.1552,  0.1265, -0.2141,  0.2909,  0.3231, -0.2002,\n",
       "         -0.2085,  0.1339]], grad_fn=<AddmmBackward0>)"
      ]
     },
     "execution_count": 23,
     "metadata": {},
     "output_type": "execute_result"
    }
   ],
   "source": [
    "seq_modules = nn.Sequential(\n",
    "    flatten,\n",
    "    layer1,\n",
    "    nn.ReLU(),\n",
    "    nn.Linear(20, 10)\n",
    ")\n",
    "input_image = torch.rand(3, 28, 28)\n",
    "logits = seq_modules(input_image)\n",
    "logits"
   ]
  },
  {
   "cell_type": "code",
   "execution_count": 24,
   "metadata": {},
   "outputs": [
    {
     "data": {
      "text/plain": [
       "torch.Size([3, 10])"
      ]
     },
     "execution_count": 24,
     "metadata": {},
     "output_type": "execute_result"
    }
   ],
   "source": [
    "logits.size()"
   ]
  },
  {
   "cell_type": "code",
   "execution_count": 25,
   "metadata": {},
   "outputs": [
    {
     "data": {
      "text/plain": [
       "tensor([[0.0882, 0.1120, 0.0871, 0.1319, 0.0822, 0.1218, 0.1228, 0.0769, 0.0711,\n",
       "         0.1060],\n",
       "        [0.0906, 0.1029, 0.0873, 0.1226, 0.0847, 0.1147, 0.1286, 0.0779, 0.0757,\n",
       "         0.1149],\n",
       "        [0.0879, 0.0983, 0.0840, 0.1114, 0.0792, 0.1313, 0.1356, 0.0803, 0.0797,\n",
       "         0.1122]], grad_fn=<SoftmaxBackward0>)"
      ]
     },
     "execution_count": 25,
     "metadata": {},
     "output_type": "execute_result"
    }
   ],
   "source": [
    "softmax = nn.Softmax(dim=1)\n",
    "pred_prob = softmax(logits)\n",
    "pred_prob"
   ]
  },
  {
   "cell_type": "code",
   "execution_count": 26,
   "metadata": {},
   "outputs": [
    {
     "name": "stdout",
     "output_type": "stream",
     "text": [
      "Layer: linear_relu_stack.0.weight | size: torch.Size([512, 784]) | value: tensor([[ 0.0214,  0.0337, -0.0333,  ...,  0.0275,  0.0243, -0.0080],\n",
      "        [ 0.0245,  0.0241, -0.0202,  ...,  0.0098,  0.0324,  0.0004],\n",
      "        [-0.0325, -0.0290,  0.0342,  ...,  0.0310,  0.0320,  0.0114],\n",
      "        [-0.0201, -0.0062,  0.0033,  ...,  0.0028,  0.0029, -0.0028],\n",
      "        [ 0.0304,  0.0126,  0.0007,  ...,  0.0176,  0.0064,  0.0246]],\n",
      "       device='cuda:0', grad_fn=<SliceBackward0>) \n",
      "\n",
      "Layer: linear_relu_stack.0.bias | size: torch.Size([512]) | value: tensor([ 0.0168,  0.0080,  0.0040,  0.0311, -0.0143], device='cuda:0',\n",
      "       grad_fn=<SliceBackward0>) \n",
      "\n",
      "Layer: linear_relu_stack.2.weight | size: torch.Size([512, 512]) | value: tensor([[ 0.0136, -0.0192, -0.0039,  ...,  0.0289, -0.0375,  0.0129],\n",
      "        [ 0.0221,  0.0095, -0.0153,  ...,  0.0012, -0.0393, -0.0228],\n",
      "        [-0.0056,  0.0257,  0.0008,  ...,  0.0315, -0.0127,  0.0327],\n",
      "        [-0.0300,  0.0061,  0.0221,  ..., -0.0201,  0.0100, -0.0430],\n",
      "        [-0.0441,  0.0095, -0.0220,  ..., -0.0365, -0.0399, -0.0250]],\n",
      "       device='cuda:0', grad_fn=<SliceBackward0>) \n",
      "\n",
      "Layer: linear_relu_stack.2.bias | size: torch.Size([512]) | value: tensor([-0.0031,  0.0257,  0.0207, -0.0174, -0.0018], device='cuda:0',\n",
      "       grad_fn=<SliceBackward0>) \n",
      "\n",
      "Layer: linear_relu_stack.4.weight | size: torch.Size([10, 512]) | value: tensor([[ 0.0141, -0.0128, -0.0034,  ...,  0.0280, -0.0262,  0.0093],\n",
      "        [ 0.0235, -0.0078, -0.0233,  ...,  0.0237, -0.0231, -0.0019],\n",
      "        [-0.0161, -0.0257, -0.0422,  ..., -0.0397,  0.0295,  0.0435],\n",
      "        [ 0.0017,  0.0166,  0.0236,  ...,  0.0360, -0.0103, -0.0289],\n",
      "        [-0.0304, -0.0318, -0.0168,  ...,  0.0143,  0.0022,  0.0313]],\n",
      "       device='cuda:0', grad_fn=<SliceBackward0>) \n",
      "\n",
      "Layer: linear_relu_stack.4.bias | size: torch.Size([10]) | value: tensor([ 0.0215,  0.0235, -0.0194,  0.0243, -0.0410], device='cuda:0',\n",
      "       grad_fn=<SliceBackward0>) \n",
      "\n"
     ]
    }
   ],
   "source": [
    "for name, param in mdl.named_parameters():\n",
    "    print(f\"Layer: {name} | size: {param.size()} | value: {param[:5]} \\n\")"
   ]
  }
 ],
 "metadata": {
  "kernelspec": {
   "display_name": ".venv",
   "language": "python",
   "name": "python3"
  },
  "language_info": {
   "codemirror_mode": {
    "name": "ipython",
    "version": 3
   },
   "file_extension": ".py",
   "mimetype": "text/x-python",
   "name": "python",
   "nbconvert_exporter": "python",
   "pygments_lexer": "ipython3",
   "version": "3.12.2"
  }
 },
 "nbformat": 4,
 "nbformat_minor": 2
}
