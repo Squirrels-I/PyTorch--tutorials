{
 "cells": [
  {
   "cell_type": "code",
   "execution_count": 2,
   "id": "28523186",
   "metadata": {},
   "outputs": [],
   "source": [
    "import torch\n",
    "from torch import nn\n",
    "from torch.utils.data import DataLoader\n",
    "from torchvision import datasets\n",
    "from torchvision.transforms import ToTensor"
   ]
  },
  {
   "cell_type": "code",
   "execution_count": 3,
   "id": "f6b51677",
   "metadata": {},
   "outputs": [],
   "source": [
    "training_data=datasets.FashionMNIST(\n",
    "    root=\"data\",\n",
    "    train=True,\n",
    "    download=True,\n",
    "    transform=ToTensor(),\n",
    ")\n",
    "\n",
    "test_data=datasets.FashionMNIST(\n",
    "    root=\"data\",\n",
    "    train=False,\n",
    "    download=True,\n",
    "    transform=ToTensor(),\n",
    ")"
   ]
  },
  {
   "cell_type": "code",
   "execution_count": 4,
   "id": "b0d3b501",
   "metadata": {},
   "outputs": [
    {
     "data": {
      "text/plain": [
       "Dataset FashionMNIST\n",
       "    Number of datapoints: 60000\n",
       "    Root location: data\n",
       "    Split: Train\n",
       "    StandardTransform\n",
       "Transform: ToTensor()"
      ]
     },
     "execution_count": 4,
     "metadata": {},
     "output_type": "execute_result"
    }
   ],
   "source": [
    "training_data"
   ]
  },
  {
   "cell_type": "code",
   "execution_count": 5,
   "id": "85165546",
   "metadata": {},
   "outputs": [
    {
     "data": {
      "text/plain": [
       "Dataset FashionMNIST\n",
       "    Number of datapoints: 10000\n",
       "    Root location: data\n",
       "    Split: Test\n",
       "    StandardTransform\n",
       "Transform: ToTensor()"
      ]
     },
     "execution_count": 5,
     "metadata": {},
     "output_type": "execute_result"
    }
   ],
   "source": [
    "test_data"
   ]
  },
  {
   "cell_type": "code",
   "execution_count": 6,
   "id": "4c7ac3ca",
   "metadata": {},
   "outputs": [],
   "source": [
    "batch_size=64\n",
    "train_dataloader=DataLoader(training_data, batch_size=batch_size)\n",
    "test_dataloader=DataLoader(test_data, batch_size=batch_size)"
   ]
  },
  {
   "cell_type": "code",
   "execution_count": 8,
   "id": "9547a8aa",
   "metadata": {},
   "outputs": [
    {
     "name": "stdout",
     "output_type": "stream",
     "text": [
      "Shape of X [N,C,H,W]: torch.Size([64, 1, 28, 28])\n",
      "Shape of y: torch.Size([64]) torch.int64\n"
     ]
    }
   ],
   "source": [
    "for X, y in test_dataloader:\n",
    "    print(f\"Shape of X [N,C,H,W]: {X.shape}\")\n",
    "    print(f\"Shape of y: {y.shape} {y.dtype}\")\n",
    "    break"
   ]
  },
  {
   "cell_type": "code",
   "execution_count": 9,
   "id": "014cc7a4",
   "metadata": {},
   "outputs": [
    {
     "name": "stdout",
     "output_type": "stream",
     "text": [
      "Using mps device\n"
     ]
    }
   ],
   "source": [
    "device=(\n",
    "    \"cuda\"\n",
    "    if torch.cuda.is_available()\n",
    "    else \"mps\"\n",
    "    if torch.backends.mps.is_available()\n",
    "    else \"cpu\"\n",
    ")\n",
    "\n",
    "print(f\"Using {device} device\")"
   ]
  },
  {
   "cell_type": "markdown",
   "id": "b316d526",
   "metadata": {},
   "source": [
    "**Define Model**"
   ]
  },
  {
   "cell_type": "code",
   "execution_count": 42,
   "id": "ac2cb4a0",
   "metadata": {},
   "outputs": [],
   "source": [
    "class NeuralNetwork(nn.Module):\n",
    "    def __init__(self):\n",
    "        super().__init__()\n",
    "        self.flatten = nn.Flatten()\n",
    "        self.linear_relu_stack = nn.Sequential(\n",
    "            nn.Linear(28*28, 512),\n",
    "            nn.ReLU(),\n",
    "            nn.Linear(512,512),\n",
    "            nn.ReLU(),\n",
    "            nn.Linear(512,10),\n",
    "            #nn.Sigmoid()\n",
    "        )\n",
    "        \n",
    "    def forward(self, x):\n",
    "        x=self.flatten(x)\n",
    "        logits = self.linear_relu_stack(x)\n",
    "        return logits\n",
    "        "
   ]
  },
  {
   "cell_type": "code",
   "execution_count": 43,
   "id": "bfe581d9",
   "metadata": {},
   "outputs": [
    {
     "name": "stdout",
     "output_type": "stream",
     "text": [
      "NeuralNetwork(\n",
      "  (flatten): Flatten(start_dim=1, end_dim=-1)\n",
      "  (linear_relu_stack): Sequential(\n",
      "    (0): Linear(in_features=784, out_features=512, bias=True)\n",
      "    (1): ReLU()\n",
      "    (2): Linear(in_features=512, out_features=512, bias=True)\n",
      "    (3): ReLU()\n",
      "    (4): Linear(in_features=512, out_features=10, bias=True)\n",
      "    (5): Sigmoid()\n",
      "  )\n",
      ")\n"
     ]
    }
   ],
   "source": [
    "model = NeuralNetwork().to(device)\n",
    "print(model)"
   ]
  },
  {
   "cell_type": "markdown",
   "id": "e8fc3562",
   "metadata": {},
   "source": [
    "**Optimizing Model Parameters**"
   ]
  },
  {
   "cell_type": "code",
   "execution_count": 44,
   "id": "6d726ef2",
   "metadata": {},
   "outputs": [],
   "source": [
    "loss_fn=nn.CrossEntropyLoss()\n",
    "optimizer=torch.optim.SGD(model.parameters(),lr=1e-3)"
   ]
  },
  {
   "cell_type": "code",
   "execution_count": 45,
   "id": "b3c94e05",
   "metadata": {},
   "outputs": [],
   "source": [
    "def train(dataloader, model, loss_fn, optimizer):\n",
    "    size=len(dataloader.dataset)\n",
    "    model.train()\n",
    "    for batch, (X, y) in enumerate(dataloader):\n",
    "        X, y = X.to(device), y.to(device)\n",
    "        \n",
    "        #Compute prediction error\n",
    "        pred=model(X)\n",
    "        loss=loss_fn(pred,y)\n",
    "        \n",
    "        #Backpropagation\n",
    "        loss.backward()\n",
    "        optimizer.step()\n",
    "        optimizer.zero_grad()\n",
    "        \n",
    "        if batch % 100==0:\n",
    "            loss, current=loss.item(), (batch+1)*len(X)\n",
    "            print(f\"loss: {loss:>7f} [{current:>5d}/{size:>5d}]\")"
   ]
  },
  {
   "cell_type": "code",
   "execution_count": 46,
   "id": "ea2e1ddb",
   "metadata": {},
   "outputs": [],
   "source": [
    "def test(dataloader, model, loss_fn):\n",
    "    size=len(dataloader.dataset)\n",
    "    num_batches=len(dataloader)\n",
    "    model.eval()\n",
    "    test_loss, correct= 0, 0\n",
    "    with torch.no_grad():\n",
    "        for X, y in dataloader:\n",
    "            X, y=X.to(device), y.to(device)\n",
    "            pred=model(X)\n",
    "            test_loss+=loss_fn(pred,y).item() #.item() converts tensor to number\n",
    "            correct+=(pred.argmax(1)==y).type(torch.float).sum().item()\n",
    "    test_loss /= num_batches\n",
    "    correct /= size\n",
    "    print(f\"Test Error: \\n Accuracy: {(100*correct):>0.1f}%, Avg loss: {test_loss:>8f} \\n\")"
   ]
  },
  {
   "cell_type": "code",
   "execution_count": 47,
   "id": "a29fe87d",
   "metadata": {},
   "outputs": [
    {
     "name": "stdout",
     "output_type": "stream",
     "text": [
      "Epoch 1 \n",
      " ---------------\n",
      "loss: 2.305916 [   64/60000]\n",
      "loss: 2.304993 [ 6464/60000]\n",
      "loss: 2.302169 [12864/60000]\n",
      "loss: 2.301659 [19264/60000]\n",
      "loss: 2.300867 [25664/60000]\n",
      "loss: 2.301015 [32064/60000]\n",
      "loss: 2.300403 [38464/60000]\n",
      "loss: 2.298708 [44864/60000]\n",
      "loss: 2.300131 [51264/60000]\n",
      "loss: 2.296578 [57664/60000]\n",
      "Test Error: \n",
      " Accuracy: 17.8%, Avg loss: 2.296288 \n",
      "\n",
      "Epoch 2 \n",
      " ---------------\n",
      "loss: 2.297253 [   64/60000]\n",
      "loss: 2.297481 [ 6464/60000]\n",
      "loss: 2.292549 [12864/60000]\n",
      "loss: 2.294377 [19264/60000]\n",
      "loss: 2.292873 [25664/60000]\n",
      "loss: 2.290359 [32064/60000]\n",
      "loss: 2.292867 [38464/60000]\n",
      "loss: 2.288955 [44864/60000]\n",
      "loss: 2.291458 [51264/60000]\n",
      "loss: 2.287573 [57664/60000]\n",
      "Test Error: \n",
      " Accuracy: 29.3%, Avg loss: 2.287102 \n",
      "\n",
      "Epoch 3 \n",
      " ---------------\n",
      "loss: 2.288278 [   64/60000]\n",
      "loss: 2.289523 [ 6464/60000]\n",
      "loss: 2.282396 [12864/60000]\n",
      "loss: 2.286393 [19264/60000]\n",
      "loss: 2.283882 [25664/60000]\n",
      "loss: 2.278696 [32064/60000]\n",
      "loss: 2.284475 [38464/60000]\n",
      "loss: 2.277981 [44864/60000]\n",
      "loss: 2.281712 [51264/60000]\n",
      "loss: 2.277298 [57664/60000]\n",
      "Test Error: \n",
      " Accuracy: 30.4%, Avg loss: 2.276527 \n",
      "\n",
      "Epoch 4 \n",
      " ---------------\n",
      "loss: 2.278176 [   64/60000]\n",
      "loss: 2.280215 [ 6464/60000]\n",
      "loss: 2.270665 [12864/60000]\n",
      "loss: 2.276878 [19264/60000]\n",
      "loss: 2.273020 [25664/60000]\n",
      "loss: 2.264859 [32064/60000]\n",
      "loss: 2.274345 [38464/60000]\n",
      "loss: 2.264907 [44864/60000]\n",
      "loss: 2.270060 [51264/60000]\n",
      "loss: 2.264625 [57664/60000]\n",
      "Test Error: \n",
      " Accuracy: 32.4%, Avg loss: 2.263642 \n",
      "\n",
      "Epoch 5 \n",
      " ---------------\n",
      "loss: 2.265907 [   64/60000]\n",
      "loss: 2.268742 [ 6464/60000]\n",
      "loss: 2.256384 [12864/60000]\n",
      "loss: 2.265071 [19264/60000]\n",
      "loss: 2.259559 [25664/60000]\n",
      "loss: 2.248067 [32064/60000]\n",
      "loss: 2.261657 [38464/60000]\n",
      "loss: 2.248822 [44864/60000]\n",
      "loss: 2.255460 [51264/60000]\n",
      "loss: 2.248665 [57664/60000]\n",
      "Test Error: \n",
      " Accuracy: 35.5%, Avg loss: 2.247683 \n",
      "\n",
      "Finito!\n"
     ]
    }
   ],
   "source": [
    "epochs=5\n",
    "for t in range(epochs):\n",
    "    print(f\"Epoch {t+1} \\n ---------------\")\n",
    "    train(train_dataloader, model, loss_fn, optimizer)\n",
    "    test(test_dataloader, model, loss_fn)\n",
    "print(\"Finito!\")"
   ]
  },
  {
   "cell_type": "code",
   "execution_count": null,
   "id": "8986f42b",
   "metadata": {},
   "outputs": [],
   "source": [
    "#torch.save(model.state_dict(),\"model.pth\")\n",
    "#print(\"Saved PyTorch Model State to model.pth\")"
   ]
  },
  {
   "cell_type": "code",
   "execution_count": null,
   "id": "4d4466e4",
   "metadata": {},
   "outputs": [],
   "source": [
    "#model=NeuralNetwork().to(device)\n",
    "#model.load_state_dict(torch.load(\"model.pth\"))"
   ]
  },
  {
   "cell_type": "markdown",
   "id": "07f49284",
   "metadata": {},
   "source": [
    "**Make Predictions**"
   ]
  },
  {
   "cell_type": "code",
   "execution_count": 49,
   "id": "f6b5ef86",
   "metadata": {},
   "outputs": [
    {
     "name": "stdout",
     "output_type": "stream",
     "text": [
      "Predicted: \"Trouser\", Actual: \"Trouser\"\n"
     ]
    }
   ],
   "source": [
    "classes = [\n",
    "    \"T-shirt/top\",\n",
    "    \"Trouser\",\n",
    "    \"Pullover\",\n",
    "    \"Dress\",\n",
    "    \"Coat\",\n",
    "    \"Sandal\",\n",
    "    \"Shirt\",\n",
    "    \"Sneaker\",\n",
    "    \"Bag\",\n",
    "    \"Ankle boot\",\n",
    "]\n",
    "\n",
    "model.eval()\n",
    "x,y=test_data[2][0], test_data[2][1]\n",
    "with torch.no_grad():\n",
    "    x=x.to(device)\n",
    "    pred=model(x)\n",
    "    predicted, actual=classes[pred[0].argmax(0)], classes[y]\n",
    "    print(f'Predicted: \"{predicted}\", Actual: \"{actual}\"')"
   ]
  }
 ],
 "metadata": {
  "kernelspec": {
   "display_name": "Python 3 (ipykernel)",
   "language": "python",
   "name": "python3"
  },
  "language_info": {
   "codemirror_mode": {
    "name": "ipython",
    "version": 3
   },
   "file_extension": ".py",
   "mimetype": "text/x-python",
   "name": "python",
   "nbconvert_exporter": "python",
   "pygments_lexer": "ipython3",
   "version": "3.11.5"
  }
 },
 "nbformat": 4,
 "nbformat_minor": 5
}
