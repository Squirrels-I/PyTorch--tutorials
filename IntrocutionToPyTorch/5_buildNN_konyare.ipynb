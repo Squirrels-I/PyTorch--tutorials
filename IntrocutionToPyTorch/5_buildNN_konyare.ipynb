{
 "cells": [
  {
   "cell_type": "code",
   "execution_count": 1,
   "id": "3100e811",
   "metadata": {},
   "outputs": [],
   "source": [
    "import os\n",
    "import torch\n",
    "from torch import nn\n",
    "from torch.utils.data import DataLoader\n",
    "from torchvision import datasets, transforms"
   ]
  },
  {
   "cell_type": "code",
   "execution_count": 3,
   "id": "c7787569",
   "metadata": {},
   "outputs": [
    {
     "data": {
      "text/plain": [
       "'mps'"
      ]
     },
     "execution_count": 3,
     "metadata": {},
     "output_type": "execute_result"
    }
   ],
   "source": [
    "device = (\n",
    "    \"cuda\"\n",
    "    if torch.cuda.is_available()\n",
    "    else \"mps\"\n",
    "    if torch.backends.mps.is_available()\n",
    "    else \"cpu\"\n",
    ")\n",
    "device"
   ]
  },
  {
   "cell_type": "code",
   "execution_count": 4,
   "id": "c78a355d",
   "metadata": {},
   "outputs": [],
   "source": [
    "class NeuralNetwork(nn.Module):\n",
    "    def __init__(self):\n",
    "        super().__init__()\n",
    "        self.flatten = nn.Flatten()\n",
    "        self.linear_relu_stack = nn.Sequential(\n",
    "            nn.Linear(28*28, 512),\n",
    "            nn.ReLU(),\n",
    "            nn.Linear(512,512),\n",
    "            nn.ReLU(),\n",
    "            nn.Linear(512,10),\n",
    "        )\n",
    "    \n",
    "    def forward(self,x):\n",
    "        x = self.flatten(x)\n",
    "        logits = self.linear_relu_stack(x)\n",
    "        return logits"
   ]
  },
  {
   "cell_type": "code",
   "execution_count": 5,
   "id": "2b2f7253",
   "metadata": {},
   "outputs": [
    {
     "name": "stdout",
     "output_type": "stream",
     "text": [
      "NeuralNetwork(\n",
      "  (flatten): Flatten(start_dim=1, end_dim=-1)\n",
      "  (linear_relu_stack): Sequential(\n",
      "    (0): Linear(in_features=784, out_features=512, bias=True)\n",
      "    (1): ReLU()\n",
      "    (2): Linear(in_features=512, out_features=512, bias=True)\n",
      "    (3): ReLU()\n",
      "    (4): Linear(in_features=512, out_features=10, bias=True)\n",
      "  )\n",
      ")\n"
     ]
    }
   ],
   "source": [
    "model=NeuralNetwork().to(device)\n",
    "print(model)"
   ]
  },
  {
   "cell_type": "code",
   "execution_count": 6,
   "id": "852892e0",
   "metadata": {},
   "outputs": [
    {
     "name": "stdout",
     "output_type": "stream",
     "text": [
      "Predicted class: tensor([8], device='mps:0')\n"
     ]
    }
   ],
   "source": [
    "X=torch.rand(1, 28, 28, device=device)\n",
    "logits=model(X)\n",
    "pred_prob=nn.Softmax(dim=1)(logits)\n",
    "y_pred=pred_prob.argmax(1)\n",
    "print(f\"Predicted class: {y_pred}\")"
   ]
  },
  {
   "cell_type": "code",
   "execution_count": 8,
   "id": "44a753fd",
   "metadata": {},
   "outputs": [
    {
     "data": {
      "text/plain": [
       "tensor([[-0.0908, -0.0356,  0.0735, -0.0848, -0.0020,  0.0652, -0.0049,  0.0414,\n",
       "          0.0820,  0.0477]], device='mps:0', grad_fn=<LinearBackward0>)"
      ]
     },
     "execution_count": 8,
     "metadata": {},
     "output_type": "execute_result"
    }
   ],
   "source": [
    "logits"
   ]
  },
  {
   "cell_type": "code",
   "execution_count": 7,
   "id": "510257b7",
   "metadata": {},
   "outputs": [
    {
     "data": {
      "text/plain": [
       "tensor([[0.0903, 0.0955, 0.1065, 0.0909, 0.0987, 0.1056, 0.0984, 0.1031, 0.1074,\n",
       "         0.1037]], device='mps:0', grad_fn=<SoftmaxBackward0>)"
      ]
     },
     "execution_count": 7,
     "metadata": {},
     "output_type": "execute_result"
    }
   ],
   "source": [
    "pred_prob"
   ]
  },
  {
   "cell_type": "code",
   "execution_count": 10,
   "id": "598680c5",
   "metadata": {},
   "outputs": [
    {
     "name": "stdout",
     "output_type": "stream",
     "text": [
      "torch.Size([3, 28, 28])\n"
     ]
    }
   ],
   "source": [
    "input_image=torch.rand(3,28,28)\n",
    "print(input_image.size())"
   ]
  },
  {
   "cell_type": "code",
   "execution_count": 13,
   "id": "b35b3ead",
   "metadata": {},
   "outputs": [
    {
     "name": "stdout",
     "output_type": "stream",
     "text": [
      "torch.Size([3, 784])\n"
     ]
    }
   ],
   "source": [
    "flatten=nn.Flatten()\n",
    "flat_image=flatten(input_image)\n",
    "print(flat_image.size())"
   ]
  },
  {
   "cell_type": "code",
   "execution_count": 40,
   "id": "268a50cd",
   "metadata": {},
   "outputs": [
    {
     "name": "stdout",
     "output_type": "stream",
     "text": [
      "torch.Size([3, 20])\n"
     ]
    }
   ],
   "source": [
    "layer1=nn.Linear(in_features=28*28, out_features=20)\n",
    "hidden1=layer1(flat_image)\n",
    "print(hidden1.size())"
   ]
  },
  {
   "cell_type": "code",
   "execution_count": 41,
   "id": "77a85ace",
   "metadata": {},
   "outputs": [
    {
     "data": {
      "text/plain": [
       "tensor([[-2.8618e-01, -2.7003e-01,  3.8036e-01, -4.0436e-01,  1.2111e-01,\n",
       "         -1.6538e-01, -1.7341e-03,  2.8336e-01, -8.2987e-01, -3.7235e-01,\n",
       "          5.8963e-02,  6.4610e-01, -7.8755e-03, -2.7777e-01, -4.0547e-02,\n",
       "         -8.5318e-01,  7.0742e-01,  6.9333e-02,  7.3088e-01, -4.0225e-01],\n",
       "        [ 1.6365e-02, -1.2298e-01, -1.3899e-01, -6.3293e-01,  3.3174e-01,\n",
       "         -1.2811e-01,  3.8430e-01, -6.0251e-03, -6.3923e-01, -3.7502e-01,\n",
       "         -2.9661e-01,  4.4947e-01, -1.0839e-01, -7.6786e-02, -2.7290e-01,\n",
       "         -5.8058e-01,  6.4755e-01,  4.7897e-01,  1.0033e+00, -3.7310e-01],\n",
       "        [-1.4886e-01, -2.8638e-01,  3.4937e-01, -1.8374e-01,  3.5742e-01,\n",
       "         -3.9600e-01,  3.9610e-02,  2.8279e-01, -5.2613e-01, -3.4500e-01,\n",
       "          1.3639e-01,  9.3165e-01, -4.1353e-04, -1.0312e-01, -1.4611e-01,\n",
       "         -4.8992e-01,  3.0751e-01,  3.3861e-01,  8.2630e-01, -5.9179e-02]],\n",
       "       grad_fn=<AddmmBackward0>)"
      ]
     },
     "execution_count": 41,
     "metadata": {},
     "output_type": "execute_result"
    }
   ],
   "source": [
    "hidden1"
   ]
  },
  {
   "cell_type": "code",
   "execution_count": 28,
   "id": "cdd6c093",
   "metadata": {},
   "outputs": [
    {
     "data": {
      "text/plain": [
       "[Parameter containing:\n",
       " tensor([[ 0.0117, -0.0289, -0.0284,  ...,  0.0186,  0.0177,  0.0188],\n",
       "         [ 0.0234,  0.0264, -0.0233,  ..., -0.0149,  0.0061,  0.0126],\n",
       "         [-0.0323, -0.0253,  0.0350,  ..., -0.0293, -0.0092,  0.0177],\n",
       "         ...,\n",
       "         [ 0.0127, -0.0138, -0.0182,  ...,  0.0097, -0.0026, -0.0020],\n",
       "         [-0.0344, -0.0202,  0.0137,  ..., -0.0217,  0.0306, -0.0282],\n",
       "         [-0.0038,  0.0305, -0.0242,  ...,  0.0276,  0.0007, -0.0141]],\n",
       "        requires_grad=True),\n",
       " Parameter containing:\n",
       " tensor([ 0.0266, -0.0011, -0.0158,  0.0011,  0.0258, -0.0218,  0.0126, -0.0224,\n",
       "          0.0013,  0.0207,  0.0163, -0.0345, -0.0051, -0.0071, -0.0155, -0.0299,\n",
       "          0.0023, -0.0311, -0.0121,  0.0317], requires_grad=True)]"
      ]
     },
     "execution_count": 28,
     "metadata": {},
     "output_type": "execute_result"
    }
   ],
   "source": [
    "[x for x in layer1.parameters()]"
   ]
  },
  {
   "cell_type": "code",
   "execution_count": 42,
   "id": "8d917db3",
   "metadata": {},
   "outputs": [
    {
     "name": "stdout",
     "output_type": "stream",
     "text": [
      "Before ReLU: tensor([[-2.8618e-01, -2.7003e-01,  3.8036e-01, -4.0436e-01,  1.2111e-01,\n",
      "         -1.6538e-01, -1.7341e-03,  2.8336e-01, -8.2987e-01, -3.7235e-01,\n",
      "          5.8963e-02,  6.4610e-01, -7.8755e-03, -2.7777e-01, -4.0547e-02,\n",
      "         -8.5318e-01,  7.0742e-01,  6.9333e-02,  7.3088e-01, -4.0225e-01],\n",
      "        [ 1.6365e-02, -1.2298e-01, -1.3899e-01, -6.3293e-01,  3.3174e-01,\n",
      "         -1.2811e-01,  3.8430e-01, -6.0251e-03, -6.3923e-01, -3.7502e-01,\n",
      "         -2.9661e-01,  4.4947e-01, -1.0839e-01, -7.6786e-02, -2.7290e-01,\n",
      "         -5.8058e-01,  6.4755e-01,  4.7897e-01,  1.0033e+00, -3.7310e-01],\n",
      "        [-1.4886e-01, -2.8638e-01,  3.4937e-01, -1.8374e-01,  3.5742e-01,\n",
      "         -3.9600e-01,  3.9610e-02,  2.8279e-01, -5.2613e-01, -3.4500e-01,\n",
      "          1.3639e-01,  9.3165e-01, -4.1353e-04, -1.0312e-01, -1.4611e-01,\n",
      "         -4.8992e-01,  3.0751e-01,  3.3861e-01,  8.2630e-01, -5.9179e-02]],\n",
      "       grad_fn=<AddmmBackward0>)\n",
      "\n",
      "\n",
      "After ReLU: tensor([[0.0000, 0.0000, 0.3804, 0.0000, 0.1211, 0.0000, 0.0000, 0.2834, 0.0000,\n",
      "         0.0000, 0.0590, 0.6461, 0.0000, 0.0000, 0.0000, 0.0000, 0.7074, 0.0693,\n",
      "         0.7309, 0.0000],\n",
      "        [0.0164, 0.0000, 0.0000, 0.0000, 0.3317, 0.0000, 0.3843, 0.0000, 0.0000,\n",
      "         0.0000, 0.0000, 0.4495, 0.0000, 0.0000, 0.0000, 0.0000, 0.6476, 0.4790,\n",
      "         1.0033, 0.0000],\n",
      "        [0.0000, 0.0000, 0.3494, 0.0000, 0.3574, 0.0000, 0.0396, 0.2828, 0.0000,\n",
      "         0.0000, 0.1364, 0.9317, 0.0000, 0.0000, 0.0000, 0.0000, 0.3075, 0.3386,\n",
      "         0.8263, 0.0000]], grad_fn=<ReluBackward0>)\n"
     ]
    }
   ],
   "source": [
    "print(f\"Before ReLU: {hidden1}\\n\\n\")\n",
    "hidden1=nn.ReLU()(hidden1)\n",
    "print(f\"After ReLU: {hidden1}\")"
   ]
  },
  {
   "cell_type": "code",
   "execution_count": 44,
   "id": "d85684ae",
   "metadata": {},
   "outputs": [],
   "source": [
    "seq_modules=nn.Sequential(\n",
    "    flatten,\n",
    "    layer1,\n",
    "    nn.ReLU(),\n",
    "    nn.Linear(20,10)\n",
    ")\n",
    "input_image=torch.rand(3,28,28)\n",
    "logits=seq_modules(input_image)"
   ]
  },
  {
   "cell_type": "code",
   "execution_count": 50,
   "id": "56b767aa",
   "metadata": {},
   "outputs": [],
   "source": [
    "softmax=nn.Softmax(dim=1)"
   ]
  },
  {
   "cell_type": "code",
   "execution_count": 46,
   "id": "1251097e",
   "metadata": {},
   "outputs": [
    {
     "data": {
      "text/plain": [
       "tensor([[-0.0253,  0.1728,  0.1363,  0.0151,  0.0356, -0.2704,  0.1745,  0.2337,\n",
       "         -0.0165, -0.1377],\n",
       "        [-0.0253,  0.1775,  0.1645, -0.1324, -0.0298, -0.1365,  0.2853,  0.2371,\n",
       "         -0.0812, -0.1252],\n",
       "        [ 0.0672,  0.1545,  0.1518, -0.1277, -0.0408, -0.1183,  0.2242,  0.2354,\n",
       "         -0.0464, -0.1653]], grad_fn=<AddmmBackward0>)"
      ]
     },
     "execution_count": 46,
     "metadata": {},
     "output_type": "execute_result"
    }
   ],
   "source": [
    "logits"
   ]
  },
  {
   "cell_type": "code",
   "execution_count": 51,
   "id": "4387d004",
   "metadata": {},
   "outputs": [
    {
     "data": {
      "text/plain": [
       "tensor([[0.0935, 0.1139, 0.1098, 0.0973, 0.0993, 0.0731, 0.1141, 0.1211, 0.0943,\n",
       "         0.0835],\n",
       "        [0.0931, 0.1141, 0.1126, 0.0837, 0.0927, 0.0833, 0.1271, 0.1211, 0.0881,\n",
       "         0.0843],\n",
       "        [0.1024, 0.1117, 0.1114, 0.0842, 0.0919, 0.0850, 0.1198, 0.1211, 0.0914,\n",
       "         0.0811]], grad_fn=<SoftmaxBackward0>)"
      ]
     },
     "execution_count": 51,
     "metadata": {},
     "output_type": "execute_result"
    }
   ],
   "source": [
    "pred_prob=softmax(logits)\n",
    "pred_prob"
   ]
  },
  {
   "cell_type": "code",
   "execution_count": 52,
   "id": "59762c6b",
   "metadata": {},
   "outputs": [
    {
     "name": "stdout",
     "output_type": "stream",
     "text": [
      "Model structure: NeuralNetwork(\n",
      "  (flatten): Flatten(start_dim=1, end_dim=-1)\n",
      "  (linear_relu_stack): Sequential(\n",
      "    (0): Linear(in_features=784, out_features=512, bias=True)\n",
      "    (1): ReLU()\n",
      "    (2): Linear(in_features=512, out_features=512, bias=True)\n",
      "    (3): ReLU()\n",
      "    (4): Linear(in_features=512, out_features=10, bias=True)\n",
      "  )\n",
      ")\n",
      "\n",
      "\n",
      "Layer: linear_relu_stack.0.weight | Size: torch.Size([512, 784]) | Values: tensor([[-0.0174, -0.0087,  0.0137,  ...,  0.0152, -0.0202,  0.0120],\n",
      "        [ 0.0290, -0.0308, -0.0035,  ...,  0.0256, -0.0310,  0.0319]],\n",
      "       device='mps:0', grad_fn=<SliceBackward0>) \n",
      "\n",
      "Layer: linear_relu_stack.0.bias | Size: torch.Size([512]) | Values: tensor([ 0.0226, -0.0118], device='mps:0', grad_fn=<SliceBackward0>) \n",
      "\n",
      "Layer: linear_relu_stack.2.weight | Size: torch.Size([512, 512]) | Values: tensor([[ 0.0364,  0.0008, -0.0325,  ...,  0.0219,  0.0010,  0.0169],\n",
      "        [ 0.0145, -0.0047,  0.0214,  ...,  0.0250,  0.0383, -0.0092]],\n",
      "       device='mps:0', grad_fn=<SliceBackward0>) \n",
      "\n",
      "Layer: linear_relu_stack.2.bias | Size: torch.Size([512]) | Values: tensor([ 0.0226, -0.0307], device='mps:0', grad_fn=<SliceBackward0>) \n",
      "\n",
      "Layer: linear_relu_stack.4.weight | Size: torch.Size([10, 512]) | Values: tensor([[ 0.0237,  0.0430,  0.0127,  ..., -0.0261, -0.0022,  0.0232],\n",
      "        [-0.0024, -0.0440, -0.0057,  ..., -0.0004,  0.0174, -0.0126]],\n",
      "       device='mps:0', grad_fn=<SliceBackward0>) \n",
      "\n",
      "Layer: linear_relu_stack.4.bias | Size: torch.Size([10]) | Values: tensor([-0.0120, -0.0263], device='mps:0', grad_fn=<SliceBackward0>) \n",
      "\n"
     ]
    }
   ],
   "source": [
    "print(f\"Model structure: {model}\\n\\n\")\n",
    "for name, param in model.named_parameters():\n",
    "    print(f\"Layer: {name} | Size: {param.size()} | Values: {param[:2]} \\n\")"
   ]
  }
 ],
 "metadata": {
  "kernelspec": {
   "display_name": "Python 3 (ipykernel)",
   "language": "python",
   "name": "python3"
  },
  "language_info": {
   "codemirror_mode": {
    "name": "ipython",
    "version": 3
   },
   "file_extension": ".py",
   "mimetype": "text/x-python",
   "name": "python",
   "nbconvert_exporter": "python",
   "pygments_lexer": "ipython3",
   "version": "3.11.5"
  }
 },
 "nbformat": 4,
 "nbformat_minor": 5
}
