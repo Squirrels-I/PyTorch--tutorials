{
 "cells": [
  {
   "cell_type": "code",
   "execution_count": 3,
   "metadata": {},
   "outputs": [
    {
     "data": {
      "text/plain": [
       "tensor([[1, 2, 5],\n",
       "        [3, 4, 6]])"
      ]
     },
     "execution_count": 3,
     "metadata": {},
     "output_type": "execute_result"
    }
   ],
   "source": [
    "import torch\n",
    "import numpy as np\n",
    "\n",
    "data = [[1,2,5], [3,4,6]]\n",
    "x_data = torch.tensor(data)\n",
    "x_data"
   ]
  },
  {
   "cell_type": "code",
   "execution_count": 4,
   "metadata": {},
   "outputs": [
    {
     "data": {
      "text/plain": [
       "torch.Size([2, 3])"
      ]
     },
     "execution_count": 4,
     "metadata": {},
     "output_type": "execute_result"
    }
   ],
   "source": [
    "x_data.shape"
   ]
  },
  {
   "cell_type": "code",
   "execution_count": 5,
   "metadata": {},
   "outputs": [
    {
     "data": {
      "text/plain": [
       "tensor([[1, 2, 5],\n",
       "        [3, 4, 6]], dtype=torch.int32)"
      ]
     },
     "execution_count": 5,
     "metadata": {},
     "output_type": "execute_result"
    }
   ],
   "source": [
    "np_array = np.array(data)\n",
    "x_np = torch.from_numpy(np_array)\n",
    "x_np"
   ]
  },
  {
   "cell_type": "code",
   "execution_count": 6,
   "metadata": {},
   "outputs": [
    {
     "name": "stdout",
     "output_type": "stream",
     "text": [
      "ones tensor: \n",
      " tensor([[1, 1, 1],\n",
      "        [1, 1, 1]]) \n",
      "\n",
      "randomr tensor: \n",
      " tensor([[0.2731, 0.1545, 0.4621],\n",
      "        [0.1915, 0.6948, 0.6158]]) \n",
      "\n"
     ]
    }
   ],
   "source": [
    "x_ones = torch.ones_like(x_data)\n",
    "print(f\"ones tensor: \\n {x_ones} \\n\")\n",
    "\n",
    "x_rand = torch.rand_like(x_data, dtype=torch.float)\n",
    "print(f\"randomr tensor: \\n {x_rand} \\n\")"
   ]
  },
  {
   "cell_type": "code",
   "execution_count": 9,
   "metadata": {},
   "outputs": [
    {
     "name": "stdout",
     "output_type": "stream",
     "text": [
      "Random Tensor: \n",
      " tensor([[0.0505, 0.9568, 0.9299],\n",
      "        [0.6342, 0.3551, 0.5474]]) \n",
      "\n",
      "Ones Tensor: \n",
      " tensor([[1., 1., 1.],\n",
      "        [1., 1., 1.]]) \n",
      "\n",
      "Zeros Tensor: \n",
      " tensor([[0., 0., 0.],\n",
      "        [0., 0., 0.]])\n"
     ]
    }
   ],
   "source": [
    "my_shape = (2,3,)\n",
    "rand_tensor = torch.rand(my_shape)\n",
    "ones_tensor = torch.ones(my_shape)\n",
    "zeros_tensor = torch.zeros(my_shape)\n",
    "\n",
    "print(f\"Random Tensor: \\n {rand_tensor} \\n\")\n",
    "print(f\"Ones Tensor: \\n {ones_tensor} \\n\")\n",
    "print(f\"Zeros Tensor: \\n {zeros_tensor}\")"
   ]
  },
  {
   "cell_type": "code",
   "execution_count": 13,
   "metadata": {},
   "outputs": [
    {
     "data": {
      "text/plain": [
       "'cuda'"
      ]
     },
     "execution_count": 13,
     "metadata": {},
     "output_type": "execute_result"
    }
   ],
   "source": [
    "device = \"cuda\" if torch.cuda.is_available() else \"cpu\"\n",
    "device"
   ]
  },
  {
   "cell_type": "code",
   "execution_count": 14,
   "metadata": {},
   "outputs": [
    {
     "name": "stdout",
     "output_type": "stream",
     "text": [
      "First row: tensor([0.5439, 0.7556, 0.9668, 0.5209], device='cuda:0')\n",
      "First column: tensor([0.5439, 0.0232, 0.0033, 0.0955], device='cuda:0')\n",
      "Last column: tensor([0.5209, 0.0136, 0.4169, 0.1093], device='cuda:0')\n",
      "tensor([[0.5439, 0.0000, 0.9668, 0.5209],\n",
      "        [0.0232, 0.0000, 0.2430, 0.0136],\n",
      "        [0.0033, 0.0000, 0.1213, 0.4169],\n",
      "        [0.0955, 0.0000, 0.4991, 0.1093]], device='cuda:0')\n"
     ]
    }
   ],
   "source": [
    "tensor = torch.rand(4, 4).to(device)\n",
    "print(f\"First row: {tensor[0]}\")\n",
    "print(f\"First column: {tensor[:, 0]}\")\n",
    "print(f\"Last column: {tensor[..., -1]}\")\n",
    "tensor[:,1] = 0\n",
    "print(tensor)"
   ]
  },
  {
   "cell_type": "code",
   "execution_count": 17,
   "metadata": {},
   "outputs": [
    {
     "data": {
      "text/plain": [
       "tensor([[0.5439, 0.0000, 0.9668, 0.5209, 0.5439, 0.0000, 0.9668, 0.5209, 0.5439,\n",
       "         0.0000, 0.9668, 0.5209],\n",
       "        [0.0232, 0.0000, 0.2430, 0.0136, 0.0232, 0.0000, 0.2430, 0.0136, 0.0232,\n",
       "         0.0000, 0.2430, 0.0136],\n",
       "        [0.0033, 0.0000, 0.1213, 0.4169, 0.0033, 0.0000, 0.1213, 0.4169, 0.0033,\n",
       "         0.0000, 0.1213, 0.4169],\n",
       "        [0.0955, 0.0000, 0.4991, 0.1093, 0.0955, 0.0000, 0.4991, 0.1093, 0.0955,\n",
       "         0.0000, 0.4991, 0.1093]], device='cuda:0')"
      ]
     },
     "execution_count": 17,
     "metadata": {},
     "output_type": "execute_result"
    }
   ],
   "source": [
    "t1 = torch.cat([tensor, tensor, tensor], dim=1)\n",
    "t1"
   ]
  },
  {
   "cell_type": "code",
   "execution_count": 20,
   "metadata": {},
   "outputs": [
    {
     "name": "stdout",
     "output_type": "stream",
     "text": [
      "tensor([[1.5019, 0.2547, 0.3362, 0.5914],\n",
      "        [0.2547, 0.0598, 0.0352, 0.1250],\n",
      "        [0.3362, 0.0352, 0.1885, 0.1064],\n",
      "        [0.5914, 0.1250, 0.1064, 0.2702]], device='cuda:0')\n",
      "tensor([[1.5019, 0.2547, 0.3362, 0.5914],\n",
      "        [0.2547, 0.0598, 0.0352, 0.1250],\n",
      "        [0.3362, 0.0352, 0.1885, 0.1064],\n",
      "        [0.5914, 0.1250, 0.1064, 0.2702]], device='cuda:0')\n"
     ]
    }
   ],
   "source": [
    "y1 = tensor @ tensor.T\n",
    "y2 = tensor.matmul(tensor.T)\n",
    "print(y1)\n",
    "print(y2)"
   ]
  },
  {
   "cell_type": "code",
   "execution_count": 22,
   "metadata": {},
   "outputs": [
    {
     "name": "stdout",
     "output_type": "stream",
     "text": [
      "tensor([[0.8064, 0.7520, 0.6185, 0.0942],\n",
      "        [0.2911, 0.2216, 0.2987, 0.7420],\n",
      "        [0.3131, 0.7990, 0.9806, 0.9468],\n",
      "        [0.5612, 0.6335, 0.0553, 0.6732]], device='cuda:0')\n",
      "tensor([[1.5019, 0.2547, 0.3362, 0.5914],\n",
      "        [0.2547, 0.0598, 0.0352, 0.1250],\n",
      "        [0.3362, 0.0352, 0.1885, 0.1064],\n",
      "        [0.5914, 0.1250, 0.1064, 0.2702]], device='cuda:0')\n"
     ]
    }
   ],
   "source": [
    "y3 = torch.rand_like(y1)\n",
    "print(y3)\n",
    "print(torch.matmul(tensor, tensor.T, out=y3))"
   ]
  },
  {
   "cell_type": "code",
   "execution_count": 23,
   "metadata": {},
   "outputs": [
    {
     "data": {
      "text/plain": [
       "tensor([[1.5019, 0.2547, 0.3362, 0.5914],\n",
       "        [0.2547, 0.0598, 0.0352, 0.1250],\n",
       "        [0.3362, 0.0352, 0.1885, 0.1064],\n",
       "        [0.5914, 0.1250, 0.1064, 0.2702]], device='cuda:0')"
      ]
     },
     "execution_count": 23,
     "metadata": {},
     "output_type": "execute_result"
    }
   ],
   "source": [
    "y3"
   ]
  },
  {
   "cell_type": "code",
   "execution_count": 25,
   "metadata": {},
   "outputs": [
    {
     "name": "stdout",
     "output_type": "stream",
     "text": [
      "tensor([[2.9587e-01, 0.0000e+00, 9.3472e-01, 2.7129e-01],\n",
      "        [5.3838e-04, 0.0000e+00, 5.9051e-02, 1.8556e-04],\n",
      "        [1.1143e-05, 0.0000e+00, 1.4704e-02, 1.7381e-01],\n",
      "        [9.1251e-03, 0.0000e+00, 2.4913e-01, 1.1946e-02]], device='cuda:0')\n",
      "tensor([[2.9587e-01, 0.0000e+00, 9.3472e-01, 2.7129e-01],\n",
      "        [5.3838e-04, 0.0000e+00, 5.9051e-02, 1.8556e-04],\n",
      "        [1.1143e-05, 0.0000e+00, 1.4704e-02, 1.7381e-01],\n",
      "        [9.1251e-03, 0.0000e+00, 2.4913e-01, 1.1946e-02]], device='cuda:0')\n",
      "tensor([[0.5100, 0.9427, 0.7565, 0.2797],\n",
      "        [0.5457, 0.2293, 0.9745, 0.6185],\n",
      "        [0.4140, 0.1174, 0.0819, 0.9948],\n",
      "        [0.0029, 0.7912, 0.2617, 0.0378]], device='cuda:0')\n",
      "tensor([[2.9587e-01, 0.0000e+00, 9.3472e-01, 2.7129e-01],\n",
      "        [5.3838e-04, 0.0000e+00, 5.9051e-02, 1.8556e-04],\n",
      "        [1.1143e-05, 0.0000e+00, 1.4704e-02, 1.7381e-01],\n",
      "        [9.1251e-03, 0.0000e+00, 2.4913e-01, 1.1946e-02]], device='cuda:0')\n"
     ]
    }
   ],
   "source": [
    "z1 = tensor * tensor\n",
    "z2 = tensor.mul(tensor)\n",
    "\n",
    "print(z1)\n",
    "print(z2)\n",
    "\n",
    "z3 = torch.rand_like(tensor)\n",
    "print(z3)\n",
    "torch.mul(tensor, tensor, out=z3)\n",
    "print(z3)"
   ]
  },
  {
   "cell_type": "code",
   "execution_count": 26,
   "metadata": {},
   "outputs": [
    {
     "name": "stdout",
     "output_type": "stream",
     "text": [
      "3.55688738822937 <class 'float'>\n"
     ]
    }
   ],
   "source": [
    "agg = tensor.sum()\n",
    "agg_item = agg.item()\n",
    "print(agg_item, type(agg_item))"
   ]
  },
  {
   "cell_type": "code",
   "execution_count": 27,
   "metadata": {},
   "outputs": [
    {
     "name": "stdout",
     "output_type": "stream",
     "text": [
      "tensor([[0.5439, 0.0000, 0.9668, 0.5209],\n",
      "        [0.0232, 0.0000, 0.2430, 0.0136],\n",
      "        [0.0033, 0.0000, 0.1213, 0.4169],\n",
      "        [0.0955, 0.0000, 0.4991, 0.1093]], device='cuda:0') \n",
      "\n",
      "tensor([[5.5439, 5.0000, 5.9668, 5.5209],\n",
      "        [5.0232, 5.0000, 5.2430, 5.0136],\n",
      "        [5.0033, 5.0000, 5.1213, 5.4169],\n",
      "        [5.0955, 5.0000, 5.4991, 5.1093]], device='cuda:0')\n"
     ]
    }
   ],
   "source": [
    "print(f\"{tensor} \\n\")\n",
    "tensor.add_(5)\n",
    "print(tensor)"
   ]
  },
  {
   "cell_type": "code",
   "execution_count": 28,
   "metadata": {},
   "outputs": [
    {
     "name": "stdout",
     "output_type": "stream",
     "text": [
      "f: tensor([1., 1., 1., 1., 1.])\n",
      "n: [1. 1. 1. 1. 1.]\n"
     ]
    }
   ],
   "source": [
    "t = torch.ones(5)\n",
    "print(f\"f: {t}\")\n",
    "n = t.numpy()\n",
    "print(f\"n: {n}\")"
   ]
  },
  {
   "cell_type": "code",
   "execution_count": 29,
   "metadata": {},
   "outputs": [
    {
     "name": "stdout",
     "output_type": "stream",
     "text": [
      "t: tensor([2., 2., 2., 2., 2.])\n",
      "n: [2. 2. 2. 2. 2.]\n"
     ]
    }
   ],
   "source": [
    "t.add_(1)\n",
    "print(f\"t: {t}\")\n",
    "print(f\"n: {n}\")"
   ]
  },
  {
   "cell_type": "code",
   "execution_count": 30,
   "metadata": {},
   "outputs": [
    {
     "data": {
      "text/plain": [
       "tensor([2., 2., 2., 2., 2.])"
      ]
     },
     "execution_count": 30,
     "metadata": {},
     "output_type": "execute_result"
    }
   ],
   "source": [
    "t.to(device)\n",
    "t"
   ]
  },
  {
   "cell_type": "code",
   "execution_count": 35,
   "metadata": {},
   "outputs": [
    {
     "data": {
      "text/plain": [
       "tensor([[7.5439, 7.0000, 7.9668, 7.5209],\n",
       "        [7.0232, 7.0000, 7.2430, 7.0136],\n",
       "        [7.0033, 7.0000, 7.1213, 7.4169],\n",
       "        [7.0955, 7.0000, 7.4991, 7.1093]], device='cuda:0')"
      ]
     },
     "execution_count": 35,
     "metadata": {},
     "output_type": "execute_result"
    }
   ],
   "source": [
    "tensor.add_(2)\n",
    "tensor"
   ]
  },
  {
   "cell_type": "code",
   "execution_count": 34,
   "metadata": {},
   "outputs": [
    {
     "data": {
      "text/plain": [
       "array([4., 4., 4., 4., 4.], dtype=float32)"
      ]
     },
     "execution_count": 34,
     "metadata": {},
     "output_type": "execute_result"
    }
   ],
   "source": [
    "np_array = np.array(data)\n",
    "x_np = torch.from_numpy(np_array)"
   ]
  },
  {
   "cell_type": "code",
   "execution_count": 39,
   "metadata": {},
   "outputs": [
    {
     "data": {
      "text/plain": [
       "tensor([[1, 2, 5],\n",
       "        [3, 4, 6]], device='cuda:0', dtype=torch.int32)"
      ]
     },
     "execution_count": 39,
     "metadata": {},
     "output_type": "execute_result"
    }
   ],
   "source": [
    "x_np = x_np.to(device)\n",
    "x_np"
   ]
  },
  {
   "cell_type": "code",
   "execution_count": 40,
   "metadata": {},
   "outputs": [
    {
     "name": "stdout",
     "output_type": "stream",
     "text": [
      "tensor([[ 6,  7, 10],\n",
      "        [ 8,  9, 11]], device='cuda:0', dtype=torch.int32)\n",
      "[[1 2 5]\n",
      " [3 4 6]]\n"
     ]
    }
   ],
   "source": [
    "x_np.add_(5)\n",
    "print(x_np)\n",
    "print(np_array)"
   ]
  }
 ],
 "metadata": {
  "kernelspec": {
   "display_name": ".venv",
   "language": "python",
   "name": "python3"
  },
  "language_info": {
   "codemirror_mode": {
    "name": "ipython",
    "version": 3
   },
   "file_extension": ".py",
   "mimetype": "text/x-python",
   "name": "python",
   "nbconvert_exporter": "python",
   "pygments_lexer": "ipython3",
   "version": "3.12.2"
  }
 },
 "nbformat": 4,
 "nbformat_minor": 2
}
